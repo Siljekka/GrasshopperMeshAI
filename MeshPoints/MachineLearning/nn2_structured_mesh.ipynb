{
 "metadata": {
  "language_info": {
   "codemirror_mode": {
    "name": "ipython",
    "version": 3
   },
   "file_extension": ".py",
   "mimetype": "text/x-python",
   "name": "python",
   "nbconvert_exporter": "python",
   "pygments_lexer": "ipython3",
   "version": "3.7.3"
  },
  "orig_nbformat": 2,
  "kernelspec": {
   "name": "python373jvsc74a57bd0f525d6ceb6fa8b8ec253218a23fe74298baaa7318d46d2fcb8ea6774c0350597",
   "display_name": "Python 3.7.3 64-bit ('3.7')"
  }
 },
 "nbformat": 4,
 "nbformat_minor": 2,
 "cells": [
  {
   "cell_type": "code",
   "execution_count": 1,
   "metadata": {},
   "outputs": [],
   "source": [
    "import tensorflow as tf\n",
    "import pandas as pd\n",
    "import numpy as np\n",
    "import matplotlib.pyplot as plt"
   ]
  },
  {
   "cell_type": "code",
   "execution_count": 4,
   "metadata": {},
   "outputs": [
    {
     "output_type": "execute_result",
     "data": {
      "text/plain": [
       "         0         1         2         3         4         5         6   \\\n",
       "0 -0.755345 -0.341212 -0.667945  0.170495  0.423291  0.406495  1.000000   \n",
       "1 -0.838968 -0.518485 -0.402219  0.763885  1.000000  0.297348  0.241187   \n",
       "2 -0.410831 -0.739627 -0.596269  0.916715  1.000000  0.811852  0.007099   \n",
       "3 -0.499674 -0.828844 -1.000000  0.667963  0.696936  0.901505  0.802738   \n",
       "4 -0.246823 -0.337471 -1.000000  0.855988  0.623882  0.403275  0.622941   \n",
       "\n",
       "         7      8      9   ...    52    53    54    55    56    57    58  \\\n",
       "0 -0.235778  0.457  0.325  ...  1.00 -0.24  0.86 -0.08  0.71  0.09  0.57   \n",
       "1 -0.542748  0.885  0.766  ...  0.24 -0.54  0.43 -0.33  0.62 -0.12  0.81   \n",
       "2 -0.988940  0.633  0.362  ...  0.01 -0.99  0.26 -0.54  0.50 -0.09  0.75   \n",
       "3 -0.740624  0.931  0.855  ...  0.80 -0.74  0.78 -0.33  0.75  0.08  0.72   \n",
       "4 -0.921792  0.876  0.775  ...  0.62 -0.92  0.62 -0.59  0.62 -0.26  0.62   \n",
       "\n",
       "     59    60    61  \n",
       "0  0.25  0.42  0.41  \n",
       "1  0.09  1.00  0.30  \n",
       "2  0.36  1.00  0.81  \n",
       "3  0.49  0.70  0.90  \n",
       "4  0.07  0.62  0.40  \n",
       "\n",
       "[5 rows x 62 columns]"
      ],
      "text/html": "<div>\n<style scoped>\n    .dataframe tbody tr th:only-of-type {\n        vertical-align: middle;\n    }\n\n    .dataframe tbody tr th {\n        vertical-align: top;\n    }\n\n    .dataframe thead th {\n        text-align: right;\n    }\n</style>\n<table border=\"1\" class=\"dataframe\">\n  <thead>\n    <tr style=\"text-align: right;\">\n      <th></th>\n      <th>0</th>\n      <th>1</th>\n      <th>2</th>\n      <th>3</th>\n      <th>4</th>\n      <th>5</th>\n      <th>6</th>\n      <th>7</th>\n      <th>8</th>\n      <th>9</th>\n      <th>...</th>\n      <th>52</th>\n      <th>53</th>\n      <th>54</th>\n      <th>55</th>\n      <th>56</th>\n      <th>57</th>\n      <th>58</th>\n      <th>59</th>\n      <th>60</th>\n      <th>61</th>\n    </tr>\n  </thead>\n  <tbody>\n    <tr>\n      <th>0</th>\n      <td>-0.755345</td>\n      <td>-0.341212</td>\n      <td>-0.667945</td>\n      <td>0.170495</td>\n      <td>0.423291</td>\n      <td>0.406495</td>\n      <td>1.000000</td>\n      <td>-0.235778</td>\n      <td>0.457</td>\n      <td>0.325</td>\n      <td>...</td>\n      <td>1.00</td>\n      <td>-0.24</td>\n      <td>0.86</td>\n      <td>-0.08</td>\n      <td>0.71</td>\n      <td>0.09</td>\n      <td>0.57</td>\n      <td>0.25</td>\n      <td>0.42</td>\n      <td>0.41</td>\n    </tr>\n    <tr>\n      <th>1</th>\n      <td>-0.838968</td>\n      <td>-0.518485</td>\n      <td>-0.402219</td>\n      <td>0.763885</td>\n      <td>1.000000</td>\n      <td>0.297348</td>\n      <td>0.241187</td>\n      <td>-0.542748</td>\n      <td>0.885</td>\n      <td>0.766</td>\n      <td>...</td>\n      <td>0.24</td>\n      <td>-0.54</td>\n      <td>0.43</td>\n      <td>-0.33</td>\n      <td>0.62</td>\n      <td>-0.12</td>\n      <td>0.81</td>\n      <td>0.09</td>\n      <td>1.00</td>\n      <td>0.30</td>\n    </tr>\n    <tr>\n      <th>2</th>\n      <td>-0.410831</td>\n      <td>-0.739627</td>\n      <td>-0.596269</td>\n      <td>0.916715</td>\n      <td>1.000000</td>\n      <td>0.811852</td>\n      <td>0.007099</td>\n      <td>-0.988940</td>\n      <td>0.633</td>\n      <td>0.362</td>\n      <td>...</td>\n      <td>0.01</td>\n      <td>-0.99</td>\n      <td>0.26</td>\n      <td>-0.54</td>\n      <td>0.50</td>\n      <td>-0.09</td>\n      <td>0.75</td>\n      <td>0.36</td>\n      <td>1.00</td>\n      <td>0.81</td>\n    </tr>\n    <tr>\n      <th>3</th>\n      <td>-0.499674</td>\n      <td>-0.828844</td>\n      <td>-1.000000</td>\n      <td>0.667963</td>\n      <td>0.696936</td>\n      <td>0.901505</td>\n      <td>0.802738</td>\n      <td>-0.740624</td>\n      <td>0.931</td>\n      <td>0.855</td>\n      <td>...</td>\n      <td>0.80</td>\n      <td>-0.74</td>\n      <td>0.78</td>\n      <td>-0.33</td>\n      <td>0.75</td>\n      <td>0.08</td>\n      <td>0.72</td>\n      <td>0.49</td>\n      <td>0.70</td>\n      <td>0.90</td>\n    </tr>\n    <tr>\n      <th>4</th>\n      <td>-0.246823</td>\n      <td>-0.337471</td>\n      <td>-1.000000</td>\n      <td>0.855988</td>\n      <td>0.623882</td>\n      <td>0.403275</td>\n      <td>0.622941</td>\n      <td>-0.921792</td>\n      <td>0.876</td>\n      <td>0.775</td>\n      <td>...</td>\n      <td>0.62</td>\n      <td>-0.92</td>\n      <td>0.62</td>\n      <td>-0.59</td>\n      <td>0.62</td>\n      <td>-0.26</td>\n      <td>0.62</td>\n      <td>0.07</td>\n      <td>0.62</td>\n      <td>0.40</td>\n    </tr>\n  </tbody>\n</table>\n<p>5 rows × 62 columns</p>\n</div>"
     },
     "metadata": {},
     "execution_count": 4
    }
   ],
   "source": [
    "# n1_x,n1_y,n2_x,n2_y,n3_x,n3_y,n4_x,n4_y,avg_Q,min_Q,target_length,total_nodes, all the other nodes\n",
    "df = pd.read_csv(\"data/structured_mesh_25_nodes_data.csv\", header=None)\n",
    "df.head()"
   ]
  },
  {
   "cell_type": "code",
   "execution_count": null,
   "metadata": {},
   "outputs": [],
   "source": []
  }
 ]
}