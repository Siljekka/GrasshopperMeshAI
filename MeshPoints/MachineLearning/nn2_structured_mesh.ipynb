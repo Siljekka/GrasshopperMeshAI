{
 "metadata": {
  "language_info": {
   "codemirror_mode": {
    "name": "ipython",
    "version": 3
   },
   "file_extension": ".py",
   "mimetype": "text/x-python",
   "name": "python",
   "nbconvert_exporter": "python",
   "pygments_lexer": "ipython3",
   "version": "3.7.4"
  },
  "orig_nbformat": 2,
  "kernelspec": {
   "name": "python374jvsc74a57bd0ccc2fee2d5adce89579dcecef6a2a73d27aad38392c686d1718faba1504ffcdf",
   "display_name": "Python 3.7.4 64-bit ('masterMLvenv': venv)"
  }
 },
 "nbformat": 4,
 "nbformat_minor": 2,
 "cells": [
  {
   "cell_type": "code",
   "execution_count": null,
   "metadata": {},
   "outputs": [],
   "source": [
    "import tensorflow as tf\n",
    "from tensorflow.keras import layers\n",
    "import pandas as pd\n",
    "import numpy as np\n",
    "import matplotlib.pyplot as plt"
   ]
  },
  {
   "source": [
    "# Dataset manipulation"
   ],
   "cell_type": "markdown",
   "metadata": {}
  },
  {
   "cell_type": "code",
   "execution_count": null,
   "metadata": {},
   "outputs": [],
   "source": [
    "# n1_x,n1_y,n2_x,n2_y,n3_x,n3_y,n4_x,n4_y,avg_Q,min_Q,target_length,total_nodes, all the other nodes\n",
    "dataset_path = \"data/structured_mesh_25_nodes_data.csv\"\n",
    "\n",
    "df = pd.read_csv(dataset_path, header=None)\n",
    "# Avg quality above 0.75, min quality above 0.5\n",
    "df = df[df.iloc[:, 8] > 0.75]\n",
    "dataset = df[df.iloc[:, 9] > 0.5]\n",
    "\n",
    "training = dataset.sample(frac=0.85)\n",
    "testing = dataset.drop(training.index)\n",
    "\n",
    "train_features = training.iloc[:, :8]\n",
    "train_labels = training.iloc[:, 12:]\n",
    "\n",
    "test_features = testing.iloc[:, :8]\n",
    "test_labels = testing.iloc[:, 12:]\n"
   ]
  },
  {
   "cell_type": "code",
   "execution_count": null,
   "metadata": {
    "tags": [
     "outputPrepend"
    ]
   },
   "outputs": [],
   "source": [
    "# ======================\n",
    "#       MODEL STUFF\n",
    "# ======================\n",
    "model_path = \"model/structured_mesh_25_nodes\"\n",
    "\n",
    "LEARNING_RATE = 1e-2\n",
    "WEIGHT_DECAY = 1e-2\n",
    "BATCH_SIZE = 512\n",
    "EPOCHS = 500\n",
    "\n",
    "def model_setup():\n",
    "    model = tf.keras.Sequential([\n",
    "        tf.keras.Input(shape=(8,)),\n",
    "        layers.BatchNormalization(),\n",
    "\n",
    "        layers.Dense(24),\n",
    "        layers.Activation('relu'),\n",
    "        layers.BatchNormalization(),\n",
    "\n",
    "        layers.Dense(36),\n",
    "        layers.Activation('relu'),\n",
    "        layers.BatchNormalization(),\n",
    "\n",
    "        layers.Dense(50),\n",
    "    ])\n",
    "\n",
    "    return model\n",
    "\n",
    "model = model_setup()\n",
    "\n",
    "decay_steps= 10_000\n",
    "lr_schedule = tf.keras.optimizers.schedules.ExponentialDecay(LEARNING_RATE, decay_steps, 1e-3)\n",
    "\n",
    "model.compile(loss=tf.losses.MeanAbsoluteError(),\n",
    "              optimizer=tf.optimizers.Adam(\n",
    "                  learning_rate=lr_schedule,\n",
    "              ),\n",
    "              )\n",
    "\n",
    "checkpoint = tf.keras.callbacks.ModelCheckpoint(model_path, monitor='val_loss', verbose=0, save_best_only=True, mode='min')\n",
    "early_stopping = tf.keras.callbacks.EarlyStopping(monitor='val_loss', mode='min', patience=EPOCHS//10)\n",
    "callbacks_list = [checkpoint, early_stopping]\n",
    "history = model.fit(train_features,\n",
    "                    train_labels,\n",
    "                    epochs=EPOCHS,\n",
    "                    batch_size=BATCH_SIZE,\n",
    "                    validation_split=0.18,\n",
    "                    verbose=2,\n",
    "                    callbacks=callbacks_list,\n",
    "                    )\n",
    "\n",
    "# ======================\n",
    "#       EVALUATION\n",
    "# ======================\n",
    "train_acc = model.evaluate(\n",
    "    train_features, train_labels, verbose=0)\n",
    "test_acc = model.evaluate(\n",
    "    test_features, test_labels, verbose=0)\n",
    "print('Training data loss: %.3f, Test data loss: %.3f' %\n",
    "        (train_acc, test_acc))\n",
    "\n",
    "# plot history\n",
    "plt.plot(history.history['loss'], label='training loss')\n",
    "plt.plot(history.history['val_loss'], label='validation loss')\n",
    "plt.legend()\n",
    "plt.show()\n"
   ]
  },
  {
   "source": [
    "# Predictions"
   ],
   "cell_type": "markdown",
   "metadata": {}
  },
  {
   "cell_type": "code",
   "execution_count": null,
   "metadata": {},
   "outputs": [],
   "source": [
    "loaded_model = tf.keras.models.load_model(model_path)\n",
    "\n",
    "sample_quad = np.array([-0.838968119895405,-0.518485268911919,-0.402219083397936,0.763884938925128,1,0.297348066916332,0.241187203293341,-0.542747736929541])\n",
    "\n",
    "prediction_data = np.expand_dims(sample_quad, axis=0)\n",
    "prediction_result = loaded_model(prediction_data).numpy()\n",
    "\n",
    "\n",
    "# ======================\n",
    "#        PLOTTING\n",
    "# ======================\n",
    "\n",
    "input_plot = prediction_data[0]\n",
    "x_input = []\n",
    "y_input = []\n",
    "for i in range(0, len(input_plot), 2):\n",
    "    x_input.append(input_plot[i])\n",
    "    y_input.append(input_plot[i+1])\n",
    "\n",
    "prediction_plot = prediction_result[0]\n",
    "x_output = []\n",
    "y_output = []\n",
    "for j in range(0, len(prediction_plot), 2):\n",
    "    x_output.append(prediction_plot[j])\n",
    "    y_output.append(prediction_plot[j+1])\n",
    "\n",
    "plt.plot(x_input, y_input, 'bd')\n",
    "plt.plot(x_output, y_output, 'rx')\n",
    "plt.gca().set_aspect('equal')\n",
    "plt.grid(b=True)\n"
   ]
  },
  {
   "cell_type": "code",
   "execution_count": null,
   "metadata": {},
   "outputs": [],
   "source": []
  }
 ]
}