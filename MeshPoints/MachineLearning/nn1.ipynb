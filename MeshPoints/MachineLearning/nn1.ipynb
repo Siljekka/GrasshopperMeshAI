{
 "metadata": {
  "language_info": {
   "codemirror_mode": {
    "name": "ipython",
    "version": 3
   },
   "file_extension": ".py",
   "mimetype": "text/x-python",
   "name": "python",
   "nbconvert_exporter": "python",
   "pygments_lexer": "ipython3",
   "version": "3.7.4"
  },
  "orig_nbformat": 2,
  "kernelspec": {
   "name": "python374jvsc74a57bd0ccc2fee2d5adce89579dcecef6a2a73d27aad38392c686d1718faba1504ffcdf",
   "display_name": "Python 3.7.4 64-bit ('masterMLvenv': venv)"
  }
 },
 "nbformat": 4,
 "nbformat_minor": 2,
 "cells": [
  {
   "cell_type": "code",
   "execution_count": null,
   "metadata": {},
   "outputs": [],
   "source": [
    "from math import sqrt\n",
    "import numpy as np\n",
    "import matplotlib.pyplot as plt\n",
    "import pre_processing as pp\n",
    "import csv\n",
    "import pandas as pd\n",
    "import tensorflow as tf"
   ]
  },
  {
   "source": [
    "# Dataset ting"
   ],
   "cell_type": "markdown",
   "metadata": {}
  },
  {
   "cell_type": "code",
   "execution_count": null,
   "metadata": {},
   "outputs": [],
   "source": [
    "pd.set_option('display.max_columns', None)\n",
    "df = pd.read_csv('data/6-gon-correct-procrustes.csv')\n",
    "\n",
    "df = df.iloc[:, :14]\n",
    "dataset = df.drop(columns=['target_edge_length'])\n",
    "\n",
    "training = dataset.sample(frac=0.85)\n",
    "testing = dataset.drop(training.index)\n",
    "\n",
    "train_features = training.iloc[:, :12]\n",
    "train_labels = training.iloc[:, -1:]\n",
    "\n",
    "test_features = testing.iloc[:, :12]\n",
    "test_labels = testing.iloc[:, -1:]"
   ]
  },
  {
   "source": [
    "# Model ting"
   ],
   "cell_type": "markdown",
   "metadata": {}
  },
  {
   "cell_type": "code",
   "execution_count": null,
   "metadata": {
    "tags": [
     "outputPrepend"
    ]
   },
   "outputs": [],
   "source": [
    "import tensorflow as tf\n",
    "from tensorflow.keras import layers\n",
    "import tensorflow_addons as tfa\n",
    "import os, datetime\n",
    "\n",
    "model_path = \"model/nn1-6gon-1\"\n",
    "BATCH_SIZE = 512\n",
    "EPOCHS = 3000\n",
    "INITIAL_LEARNING_RATE = 1e-2\n",
    "\n",
    "def model_setup():\n",
    "    model = tf.keras.Sequential([\n",
    "        tf.keras.Input(shape=(12,)),\n",
    "        layers.BatchNormalization(),\n",
    "\n",
    "        layers.Dense(24, activation='relu'),\n",
    "        layers.BatchNormalization(),\n",
    "\n",
    "        layers.Dense(24, activation='relu'),\n",
    "        layers.BatchNormalization(),\n",
    "\n",
    "        layers.Dense(1),\n",
    "    ])\n",
    "    return model\n",
    "\n",
    "def train_model(model, model_epochs=EPOCHS, model_batch_size=BATCH_SIZE, learning_rate=INITIAL_LEARNING_RATE):\n",
    "    # Callbacks\n",
    "    # logdir = os.path.join(\"logs\", datetime.datetime.now().strftime(\"%Y%m%d-%H%M%S\"))\n",
    "    # tensorboard = tf.keras.callbacks.TensorBoard(logdir, histogram_freq=1)\n",
    "    checkpoint = tf.keras.callbacks.ModelCheckpoint(model_path, monitor='val_loss', verbose=0, save_best_only=True, mode='min')\n",
    "    early_stopping = tf.keras.callbacks.EarlyStopping(monitor='val_loss', mode='min', patience=EPOCHS//3, min_delta=0.0001)\n",
    "\n",
    "    # Learning rate scheduler\n",
    "    decay_steps= 1_000\n",
    "    lr_schedule = tf.keras.optimizers.schedules.ExponentialDecay(\n",
    "        INITIAL_LEARNING_RATE, \n",
    "        decay_steps, \n",
    "        3e-4\n",
    "        )\n",
    "\n",
    "    # Initialize model\n",
    "    model.compile(loss=tf.losses.MeanAbsoluteError(),\n",
    "                optimizer=tf.optimizers.Adam(\n",
    "                learning_rate=lr_schedule,\n",
    "            ),\n",
    "            )\n",
    "\n",
    "    # Train model and write progress to history (for graphing)\n",
    "    history = model.fit(train_features,\n",
    "                        train_labels,\n",
    "                        epochs=model_epochs,\n",
    "                        batch_size=model_batch_size,\n",
    "                        validation_split=0.18,\n",
    "                        verbose=2,\n",
    "                        callbacks=[checkpoint],\n",
    "                        )\n",
    "    return history\n",
    "\n",
    "\n",
    "# %load_ext tensorboard\n",
    "# %tensorboard --logdir logs\n",
    "model = model_setup()\n",
    "history = train_model(model)\n",
    "\n",
    "# ======================\n",
    "#       EVALUATION\n",
    "# ======================\n",
    "train_acc = model.evaluate(\n",
    "    train_features, train_labels, verbose=0)\n",
    "test_acc = model.evaluate(\n",
    "    test_features, test_labels, verbose=0)\n",
    "print('Training data loss: %.3f, Test data loss: %.3f' %\n",
    "        (train_acc, test_acc))      \n"
   ]
  },
  {
   "cell_type": "code",
   "execution_count": null,
   "metadata": {},
   "outputs": [],
   "source": [
    "plt.plot(history.history['loss'], label='training loss')\n",
    "plt.plot(history.history['val_loss'], label='validation loss')\n",
    "plt.legend()\n",
    "plt.xlabel(\"Epochs\")\n",
    "plt.ylabel(\"MAE\")\n",
    "plt.ylim(0.33, 0.6)"
   ]
  },
  {
   "cell_type": "code",
   "execution_count": null,
   "metadata": {},
   "outputs": [],
   "source": [
    "# ======================\n",
    "#  EVALUATE SAVED MODEL \n",
    "# ======================\n",
    "\n",
    "saved_model = tf.keras.models.load_model('model/nn1-6gon')\n",
    "\n",
    "train_acc = saved_model.evaluate(\n",
    "    train_features, train_labels, verbose=0)\n",
    "test_acc = saved_model.evaluate(\n",
    "    test_features, test_labels, verbose=0)\n",
    "print('Training data loss: %.3f, Test data loss: %.3f' %\n",
    "        (train_acc, test_acc))"
   ]
  },
  {
   "cell_type": "code",
   "execution_count": null,
   "metadata": {},
   "outputs": [],
   "source": [
    "\n",
    "\n",
    "thesis_model = tf.keras.models.load_model('model/thesis-internal-node-count-6gon')\n",
    "thesis_model.summary()\n",
    "\n",
    "train_acc = thesis_model.evaluate(\n",
    "    train_features, train_labels, verbose=0)\n",
    "test_acc = thesis_model.evaluate(\n",
    "    test_features, test_labels, verbose=0)\n",
    "print('Training data loss: %.3f, Test data loss: %.3f' %\n",
    "        (train_acc, test_acc))"
   ]
  },
  {
   "cell_type": "code",
   "execution_count": null,
   "metadata": {},
   "outputs": [],
   "source": []
  }
 ]
}