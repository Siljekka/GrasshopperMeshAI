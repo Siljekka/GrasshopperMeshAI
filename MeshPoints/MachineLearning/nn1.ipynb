{
 "metadata": {
  "language_info": {
   "codemirror_mode": {
    "name": "ipython",
    "version": 3
   },
   "file_extension": ".py",
   "mimetype": "text/x-python",
   "name": "python",
   "nbconvert_exporter": "python",
   "pygments_lexer": "ipython3",
   "version": "3.7.4"
  },
  "orig_nbformat": 2,
  "kernelspec": {
   "name": "python374jvsc74a57bd0ccc2fee2d5adce89579dcecef6a2a73d27aad38392c686d1718faba1504ffcdf",
   "display_name": "Python 3.7.4 64-bit ('masterMLvenv': venv)"
  }
 },
 "nbformat": 4,
 "nbformat_minor": 2,
 "cells": [
  {
   "cell_type": "code",
   "execution_count": 2,
   "metadata": {},
   "outputs": [],
   "source": [
    "from math import sqrt\n",
    "import numpy as np\n",
    "import matplotlib.pyplot as plt\n",
    "import pre_processing as pp\n",
    "import csv\n",
    "import pandas as pd\n",
    "import tensorflow as tf"
   ]
  },
  {
   "source": [
    "# Dataset ting"
   ],
   "cell_type": "markdown",
   "metadata": {}
  },
  {
   "cell_type": "code",
   "execution_count": 17,
   "metadata": {},
   "outputs": [],
   "source": [
    "pd.set_option('display.max_columns', None)\n",
    "df = pd.read_csv('data/6-gon-correct-procrustes.csv')\n",
    "\n",
    "df = df.iloc[:, :14]\n",
    "dataset = df.drop(columns=['target_edge_length'])\n",
    "\n",
    "training = dataset.sample(frac=0.85)\n",
    "testing = dataset.drop(training.index)\n",
    "\n",
    "train_features = training.iloc[:, :12]\n",
    "train_labels = training.iloc[:, -1:]\n",
    "\n",
    "test_features = testing.iloc[:, :12]\n",
    "test_labels = testing.iloc[:, -1:]"
   ]
  },
  {
   "source": [
    "# Model ting"
   ],
   "cell_type": "markdown",
   "metadata": {}
  },
  {
   "cell_type": "code",
   "execution_count": 19,
   "metadata": {},
   "outputs": [
    {
     "output_type": "stream",
     "name": "stdout",
     "text": [
      "Model: \"sequential\"\n_________________________________________________________________\nLayer (type)                 Output Shape              Param #   \n=================================================================\nbatch_normalization (BatchNo (None, 12)                48        \n_________________________________________________________________\ndense (Dense)                (None, 24)                312       \n_________________________________________________________________\nbatch_normalization_1 (Batch (None, 24)                96        \n_________________________________________________________________\ndense_1 (Dense)              (None, 24)                600       \n_________________________________________________________________\nbatch_normalization_2 (Batch (None, 24)                96        \n_________________________________________________________________\ndense_2 (Dense)              (None, 1)                 25        \n=================================================================\nTotal params: 1,177\nTrainable params: 1,057\nNon-trainable params: 120\n_________________________________________________________________\n"
     ]
    }
   ],
   "source": [
    "import tensorflow as tf\n",
    "from tensorflow.keras import layers\n",
    "\n",
    "model_path = \"model/thesis-internal-node-count-6gon\"\n",
    "BATCH_SIZE = 512\n",
    "EPOCHS = 5000\n",
    "INITIAL_LEARNING_RATE = 1e-1\n",
    "\n",
    "def model_setup():\n",
    "    model = tf.keras.Sequential([\n",
    "        tf.keras.Input(shape=(12,)),\n",
    "        layers.BatchNormalization(),\n",
    "\n",
    "        layers.Dense(24, activation='relu'),\n",
    "        layers.BatchNormalization(),\n",
    "\n",
    "        layers.Dense(24, activation='relu'),\n",
    "        layers.BatchNormalization(),\n",
    "\n",
    "        layers.Dense(1),\n",
    "    ])\n",
    "    return model\n",
    "model = model_setup()\n",
    "# model.summary()\n",
    "\n",
    "decay_steps= 10_000\n",
    "lr_schedule = tf.keras.optimizers.schedules.PolynomialDecay(\n",
    "    INITIAL_LEARNING_RATE, \n",
    "    decay_steps, \n",
    "    1e-3\n",
    "    )\n",
    "\n",
    "model.compile(loss=tf.losses.MeanAbsoluteError(),\n",
    "              optimizer=tf.optimizers.Adam(\n",
    "              learning_rate=learning_rate\n",
    "        ),\n",
    "        )\n",
    "\n",
    "checkpoint = tf.keras.callbacks.ModelCheckpoint(model_path, monitor='val_loss', verbose=0, save_best_only=True, mode='min')\n",
    "early_stopping = tf.keras.callbacks.EarlyStopping(monitor='val_loss', mode='min', patience=EPOCHS//10, min_delta=0.0001)\n",
    "\n",
    "history = model.fit(train_features,\n",
    "                    train_labels,\n",
    "                    epochs=EPOCHS,\n",
    "                    batch_size=BATCH_SIZE,\n",
    "                    validation_split=0.18,\n",
    "                    verbose=2,\n",
    "                    callbacks=[checkpoint, early_stopping],\n",
    "                    )\n",
    "\n",
    "# ======================\n",
    "#       EVALUATION\n",
    "# ======================\n",
    "train_acc = model.evaluate(\n",
    "    train_features, train_labels, verbose=0)\n",
    "test_acc = model.evaluate(\n",
    "    test_features, test_labels, verbose=0)\n",
    "print('Training data loss: %.3f, Test data loss: %.3f' %\n",
    "        (train_acc, test_acc))      \n"
   ]
  },
  {
   "cell_type": "code",
   "execution_count": null,
   "metadata": {},
   "outputs": [],
   "source": [
    "plt.plot(history.history['loss'], label='training loss')\n",
    "plt.plot(history.history['val_loss'], label='validation loss')\n",
    "plt.legend()\n",
    "plt.xlabel(\"Epochs\")\n",
    "plt.ylabel(\"MAE\")"
   ]
  }
 ]
}