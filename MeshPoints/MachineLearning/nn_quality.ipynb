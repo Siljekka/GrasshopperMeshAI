{
 "metadata": {
  "language_info": {
   "codemirror_mode": {
    "name": "ipython",
    "version": 3
   },
   "file_extension": ".py",
   "mimetype": "text/x-python",
   "name": "python",
   "nbconvert_exporter": "python",
   "pygments_lexer": "ipython3",
   "version": "3.7.4"
  },
  "orig_nbformat": 2,
  "kernelspec": {
   "name": "python374jvsc74a57bd0ccc2fee2d5adce89579dcecef6a2a73d27aad38392c686d1718faba1504ffcdf",
   "display_name": "Python 3.7.4 64-bit ('masterMLvenv': venv)"
  }
 },
 "nbformat": 4,
 "nbformat_minor": 2,
 "cells": [
  {
   "cell_type": "code",
   "execution_count": 41,
   "metadata": {},
   "outputs": [],
   "source": [
    "import tensorflow as tf\n",
    "import pandas as pd\n",
    "import matplotlib.pyplot as plt\n",
    "import numpy as np"
   ]
  },
  {
   "cell_type": "code",
   "execution_count": 55,
   "metadata": {},
   "outputs": [
    {
     "output_type": "execute_result",
     "data": {
      "text/plain": [
       "18671"
      ]
     },
     "metadata": {},
     "execution_count": 55
    }
   ],
   "source": [
    "df = pd.read_csv('data/8-gon-gh-dataset.csv')\n",
    "\n",
    "good_data = pd.isnull(df['dum1'])\n",
    "\n",
    "dataset = df[good_data].dropna(axis=1, how='all')\n",
    "\n",
    "# Split dataset into 70/15/15 training/validation/test\n",
    "train = dataset.sample(frac=0.85)\n",
    "test = dataset.drop(train.index)\n",
    "\n",
    "# Split dataset into features and labels; last 4 (grid scores)\n",
    "train_features = train.iloc[:, 1:]\n",
    "train_labels = train.iloc[:, :1]\n",
    "\n",
    "test_features = test.iloc[:, 1:]\n",
    "test_labels = test.iloc[:, :1]\n",
    "\n",
    "train_features.shape[0]"
   ]
  },
  {
   "cell_type": "code",
   "execution_count": 57,
   "metadata": {
    "tags": []
   },
   "outputs": [
    {
     "output_type": "stream",
     "name": "stdout",
     "text": [
      "Model: \"sequential_6\"\n",
      "_________________________________________________________________\n",
      "Layer (type)                 Output Shape              Param #   \n",
      "=================================================================\n",
      "batch_normalization_17 (Batc (None, 22)                88        \n",
      "_________________________________________________________________\n",
      "dense_15 (Dense)             (None, 16)                368       \n",
      "_________________________________________________________________\n",
      "batch_normalization_18 (Batc (None, 16)                64        \n",
      "_________________________________________________________________\n",
      "dropout_5 (Dropout)          (None, 16)                0         \n",
      "_________________________________________________________________\n",
      "dense_16 (Dense)             (None, 1)                 17        \n",
      "=================================================================\n",
      "Total params: 537\n",
      "Trainable params: 461\n",
      "Non-trainable params: 76\n",
      "_________________________________________________________________\n",
      "Epoch 1/1000\n",
      "1531/1531 - 6s - loss: 0.2135 - val_loss: 0.0035\n",
      "INFO:tensorflow:Assets written to: model\\mesh-quality-8gon-small-1\\assets\n",
      "Epoch 2/1000\n",
      "1531/1531 - 5s - loss: 0.0160 - val_loss: 0.0031\n",
      "INFO:tensorflow:Assets written to: model\\mesh-quality-8gon-small-1\\assets\n",
      "Epoch 3/1000\n",
      "1531/1531 - 5s - loss: 0.0098 - val_loss: 0.0029\n",
      "INFO:tensorflow:Assets written to: model\\mesh-quality-8gon-small-1\\assets\n",
      "Epoch 4/1000\n",
      "1531/1531 - 5s - loss: 0.0057 - val_loss: 0.0027\n",
      "INFO:tensorflow:Assets written to: model\\mesh-quality-8gon-small-1\\assets\n",
      "Epoch 5/1000\n",
      "1531/1531 - 5s - loss: 0.0035 - val_loss: 0.0027\n",
      "INFO:tensorflow:Assets written to: model\\mesh-quality-8gon-small-1\\assets\n",
      "Epoch 6/1000\n",
      "1531/1531 - 5s - loss: 0.0029 - val_loss: 0.0028\n",
      "Epoch 7/1000\n",
      "1531/1531 - 5s - loss: 0.0027 - val_loss: 0.0027\n",
      "Epoch 8/1000\n",
      "1531/1531 - 5s - loss: 0.0027 - val_loss: 0.0027\n",
      "Epoch 9/1000\n",
      "1531/1531 - 5s - loss: 0.0027 - val_loss: 0.0027\n",
      "INFO:tensorflow:Assets written to: model\\mesh-quality-8gon-small-1\\assets\n",
      "Epoch 10/1000\n",
      "1531/1531 - 5s - loss: 0.0027 - val_loss: 0.0027\n",
      "Epoch 11/1000\n",
      "1531/1531 - 5s - loss: 0.0027 - val_loss: 0.0027\n",
      "Epoch 12/1000\n",
      "1531/1531 - 5s - loss: 0.0027 - val_loss: 0.0027\n",
      "Epoch 13/1000\n",
      "1531/1531 - 5s - loss: 0.0027 - val_loss: 0.0027\n",
      "Epoch 14/1000\n",
      "1531/1531 - 5s - loss: 0.0027 - val_loss: 0.0027\n",
      "Epoch 15/1000\n",
      "1531/1531 - 5s - loss: 0.0027 - val_loss: 0.0027\n",
      "Epoch 16/1000\n",
      "1531/1531 - 5s - loss: 0.0027 - val_loss: 0.0027\n",
      "Epoch 17/1000\n",
      "1531/1531 - 5s - loss: 0.0027 - val_loss: 0.0027\n",
      "Epoch 18/1000\n",
      "1531/1531 - 5s - loss: 0.0027 - val_loss: 0.0027\n",
      "Epoch 19/1000\n"
     ]
    },
    {
     "output_type": "error",
     "ename": "KeyboardInterrupt",
     "evalue": "",
     "traceback": [
      "\u001b[1;31m---------------------------------------------------------------------------\u001b[0m",
      "\u001b[1;31mKeyboardInterrupt\u001b[0m                         Traceback (most recent call last)",
      "\u001b[1;32m<ipython-input-57-7228a2d8696c>\u001b[0m in \u001b[0;36m<module>\u001b[1;34m\u001b[0m\n\u001b[0;32m     56\u001b[0m \u001b[0mmodel\u001b[0m \u001b[1;33m=\u001b[0m \u001b[0mmodel_setup\u001b[0m\u001b[1;33m(\u001b[0m\u001b[1;33m)\u001b[0m\u001b[1;33m\u001b[0m\u001b[1;33m\u001b[0m\u001b[0m\n\u001b[0;32m     57\u001b[0m \u001b[0mmodel\u001b[0m\u001b[1;33m.\u001b[0m\u001b[0msummary\u001b[0m\u001b[1;33m(\u001b[0m\u001b[1;33m)\u001b[0m\u001b[1;33m\u001b[0m\u001b[1;33m\u001b[0m\u001b[0m\n\u001b[1;32m---> 58\u001b[1;33m \u001b[0mhistory\u001b[0m \u001b[1;33m=\u001b[0m \u001b[0mtrain_model\u001b[0m\u001b[1;33m(\u001b[0m\u001b[0mmodel\u001b[0m\u001b[1;33m,\u001b[0m \u001b[0mtrain_features\u001b[0m\u001b[1;33m,\u001b[0m \u001b[0mtrain_labels\u001b[0m\u001b[1;33m)\u001b[0m\u001b[1;33m\u001b[0m\u001b[1;33m\u001b[0m\u001b[0m\n\u001b[0m\u001b[0;32m     59\u001b[0m \u001b[1;33m\u001b[0m\u001b[0m\n\u001b[0;32m     60\u001b[0m \u001b[1;31m# ======================\u001b[0m\u001b[1;33m\u001b[0m\u001b[1;33m\u001b[0m\u001b[1;33m\u001b[0m\u001b[0m\n",
      "\u001b[1;32m<ipython-input-57-7228a2d8696c>\u001b[0m in \u001b[0;36mtrain_model\u001b[1;34m(model, train_features, train_label, model_epochs, model_batch_size, learning_rate)\u001b[0m\n\u001b[0;32m     50\u001b[0m                         \u001b[0mvalidation_split\u001b[0m\u001b[1;33m=\u001b[0m\u001b[1;36m0.18\u001b[0m\u001b[1;33m,\u001b[0m\u001b[1;33m\u001b[0m\u001b[1;33m\u001b[0m\u001b[0m\n\u001b[0;32m     51\u001b[0m                         \u001b[0mverbose\u001b[0m\u001b[1;33m=\u001b[0m\u001b[1;36m2\u001b[0m\u001b[1;33m,\u001b[0m\u001b[1;33m\u001b[0m\u001b[1;33m\u001b[0m\u001b[0m\n\u001b[1;32m---> 52\u001b[1;33m                         \u001b[0mcallbacks\u001b[0m\u001b[1;33m=\u001b[0m\u001b[1;33m[\u001b[0m\u001b[0mcheckpoint\u001b[0m\u001b[1;33m,\u001b[0m \u001b[0mearly_stopping\u001b[0m\u001b[1;33m]\u001b[0m\u001b[1;33m,\u001b[0m\u001b[1;33m\u001b[0m\u001b[1;33m\u001b[0m\u001b[0m\n\u001b[0m\u001b[0;32m     53\u001b[0m                         )\n\u001b[0;32m     54\u001b[0m     \u001b[1;32mreturn\u001b[0m \u001b[0mhistory\u001b[0m\u001b[1;33m\u001b[0m\u001b[1;33m\u001b[0m\u001b[0m\n",
      "\u001b[1;32mc:\\Users\\mkunn\\skole\\master\\venv\\masterMLvenv\\lib\\site-packages\\tensorflow\\python\\keras\\engine\\training.py\u001b[0m in \u001b[0;36mfit\u001b[1;34m(self, x, y, batch_size, epochs, verbose, callbacks, validation_split, validation_data, shuffle, class_weight, sample_weight, initial_epoch, steps_per_epoch, validation_steps, validation_batch_size, validation_freq, max_queue_size, workers, use_multiprocessing)\u001b[0m\n\u001b[0;32m   1098\u001b[0m                 _r=1):\n\u001b[0;32m   1099\u001b[0m               \u001b[0mcallbacks\u001b[0m\u001b[1;33m.\u001b[0m\u001b[0mon_train_batch_begin\u001b[0m\u001b[1;33m(\u001b[0m\u001b[0mstep\u001b[0m\u001b[1;33m)\u001b[0m\u001b[1;33m\u001b[0m\u001b[1;33m\u001b[0m\u001b[0m\n\u001b[1;32m-> 1100\u001b[1;33m               \u001b[0mtmp_logs\u001b[0m \u001b[1;33m=\u001b[0m \u001b[0mself\u001b[0m\u001b[1;33m.\u001b[0m\u001b[0mtrain_function\u001b[0m\u001b[1;33m(\u001b[0m\u001b[0miterator\u001b[0m\u001b[1;33m)\u001b[0m\u001b[1;33m\u001b[0m\u001b[1;33m\u001b[0m\u001b[0m\n\u001b[0m\u001b[0;32m   1101\u001b[0m               \u001b[1;32mif\u001b[0m \u001b[0mdata_handler\u001b[0m\u001b[1;33m.\u001b[0m\u001b[0mshould_sync\u001b[0m\u001b[1;33m:\u001b[0m\u001b[1;33m\u001b[0m\u001b[1;33m\u001b[0m\u001b[0m\n\u001b[0;32m   1102\u001b[0m                 \u001b[0mcontext\u001b[0m\u001b[1;33m.\u001b[0m\u001b[0masync_wait\u001b[0m\u001b[1;33m(\u001b[0m\u001b[1;33m)\u001b[0m\u001b[1;33m\u001b[0m\u001b[1;33m\u001b[0m\u001b[0m\n",
      "\u001b[1;32mc:\\Users\\mkunn\\skole\\master\\venv\\masterMLvenv\\lib\\site-packages\\tensorflow\\python\\eager\\def_function.py\u001b[0m in \u001b[0;36m__call__\u001b[1;34m(self, *args, **kwds)\u001b[0m\n\u001b[0;32m    826\u001b[0m     \u001b[0mtracing_count\u001b[0m \u001b[1;33m=\u001b[0m \u001b[0mself\u001b[0m\u001b[1;33m.\u001b[0m\u001b[0mexperimental_get_tracing_count\u001b[0m\u001b[1;33m(\u001b[0m\u001b[1;33m)\u001b[0m\u001b[1;33m\u001b[0m\u001b[1;33m\u001b[0m\u001b[0m\n\u001b[0;32m    827\u001b[0m     \u001b[1;32mwith\u001b[0m \u001b[0mtrace\u001b[0m\u001b[1;33m.\u001b[0m\u001b[0mTrace\u001b[0m\u001b[1;33m(\u001b[0m\u001b[0mself\u001b[0m\u001b[1;33m.\u001b[0m\u001b[0m_name\u001b[0m\u001b[1;33m)\u001b[0m \u001b[1;32mas\u001b[0m \u001b[0mtm\u001b[0m\u001b[1;33m:\u001b[0m\u001b[1;33m\u001b[0m\u001b[1;33m\u001b[0m\u001b[0m\n\u001b[1;32m--> 828\u001b[1;33m       \u001b[0mresult\u001b[0m \u001b[1;33m=\u001b[0m \u001b[0mself\u001b[0m\u001b[1;33m.\u001b[0m\u001b[0m_call\u001b[0m\u001b[1;33m(\u001b[0m\u001b[1;33m*\u001b[0m\u001b[0margs\u001b[0m\u001b[1;33m,\u001b[0m \u001b[1;33m**\u001b[0m\u001b[0mkwds\u001b[0m\u001b[1;33m)\u001b[0m\u001b[1;33m\u001b[0m\u001b[1;33m\u001b[0m\u001b[0m\n\u001b[0m\u001b[0;32m    829\u001b[0m       \u001b[0mcompiler\u001b[0m \u001b[1;33m=\u001b[0m \u001b[1;34m\"xla\"\u001b[0m \u001b[1;32mif\u001b[0m \u001b[0mself\u001b[0m\u001b[1;33m.\u001b[0m\u001b[0m_experimental_compile\u001b[0m \u001b[1;32melse\u001b[0m \u001b[1;34m\"nonXla\"\u001b[0m\u001b[1;33m\u001b[0m\u001b[1;33m\u001b[0m\u001b[0m\n\u001b[0;32m    830\u001b[0m       \u001b[0mnew_tracing_count\u001b[0m \u001b[1;33m=\u001b[0m \u001b[0mself\u001b[0m\u001b[1;33m.\u001b[0m\u001b[0mexperimental_get_tracing_count\u001b[0m\u001b[1;33m(\u001b[0m\u001b[1;33m)\u001b[0m\u001b[1;33m\u001b[0m\u001b[1;33m\u001b[0m\u001b[0m\n",
      "\u001b[1;32mc:\\Users\\mkunn\\skole\\master\\venv\\masterMLvenv\\lib\\site-packages\\tensorflow\\python\\eager\\def_function.py\u001b[0m in \u001b[0;36m_call\u001b[1;34m(self, *args, **kwds)\u001b[0m\n\u001b[0;32m    853\u001b[0m       \u001b[1;31m# In this case we have created variables on the first call, so we run the\u001b[0m\u001b[1;33m\u001b[0m\u001b[1;33m\u001b[0m\u001b[1;33m\u001b[0m\u001b[0m\n\u001b[0;32m    854\u001b[0m       \u001b[1;31m# defunned version which is guaranteed to never create variables.\u001b[0m\u001b[1;33m\u001b[0m\u001b[1;33m\u001b[0m\u001b[1;33m\u001b[0m\u001b[0m\n\u001b[1;32m--> 855\u001b[1;33m       \u001b[1;32mreturn\u001b[0m \u001b[0mself\u001b[0m\u001b[1;33m.\u001b[0m\u001b[0m_stateless_fn\u001b[0m\u001b[1;33m(\u001b[0m\u001b[1;33m*\u001b[0m\u001b[0margs\u001b[0m\u001b[1;33m,\u001b[0m \u001b[1;33m**\u001b[0m\u001b[0mkwds\u001b[0m\u001b[1;33m)\u001b[0m  \u001b[1;31m# pylint: disable=not-callable\u001b[0m\u001b[1;33m\u001b[0m\u001b[1;33m\u001b[0m\u001b[0m\n\u001b[0m\u001b[0;32m    856\u001b[0m     \u001b[1;32melif\u001b[0m \u001b[0mself\u001b[0m\u001b[1;33m.\u001b[0m\u001b[0m_stateful_fn\u001b[0m \u001b[1;32mis\u001b[0m \u001b[1;32mnot\u001b[0m \u001b[1;32mNone\u001b[0m\u001b[1;33m:\u001b[0m\u001b[1;33m\u001b[0m\u001b[1;33m\u001b[0m\u001b[0m\n\u001b[0;32m    857\u001b[0m       \u001b[1;31m# Release the lock early so that multiple threads can perform the call\u001b[0m\u001b[1;33m\u001b[0m\u001b[1;33m\u001b[0m\u001b[1;33m\u001b[0m\u001b[0m\n",
      "\u001b[1;32mc:\\Users\\mkunn\\skole\\master\\venv\\masterMLvenv\\lib\\site-packages\\tensorflow\\python\\eager\\function.py\u001b[0m in \u001b[0;36m__call__\u001b[1;34m(self, *args, **kwargs)\u001b[0m\n\u001b[0;32m   2941\u001b[0m        filtered_flat_args) = self._maybe_define_function(args, kwargs)\n\u001b[0;32m   2942\u001b[0m     return graph_function._call_flat(\n\u001b[1;32m-> 2943\u001b[1;33m         filtered_flat_args, captured_inputs=graph_function.captured_inputs)  # pylint: disable=protected-access\n\u001b[0m\u001b[0;32m   2944\u001b[0m \u001b[1;33m\u001b[0m\u001b[0m\n\u001b[0;32m   2945\u001b[0m   \u001b[1;33m@\u001b[0m\u001b[0mproperty\u001b[0m\u001b[1;33m\u001b[0m\u001b[1;33m\u001b[0m\u001b[0m\n",
      "\u001b[1;32mc:\\Users\\mkunn\\skole\\master\\venv\\masterMLvenv\\lib\\site-packages\\tensorflow\\python\\eager\\function.py\u001b[0m in \u001b[0;36m_call_flat\u001b[1;34m(self, args, captured_inputs, cancellation_manager)\u001b[0m\n\u001b[0;32m   1917\u001b[0m       \u001b[1;31m# No tape is watching; skip to running the function.\u001b[0m\u001b[1;33m\u001b[0m\u001b[1;33m\u001b[0m\u001b[1;33m\u001b[0m\u001b[0m\n\u001b[0;32m   1918\u001b[0m       return self._build_call_outputs(self._inference_function.call(\n\u001b[1;32m-> 1919\u001b[1;33m           ctx, args, cancellation_manager=cancellation_manager))\n\u001b[0m\u001b[0;32m   1920\u001b[0m     forward_backward = self._select_forward_and_backward_functions(\n\u001b[0;32m   1921\u001b[0m         \u001b[0margs\u001b[0m\u001b[1;33m,\u001b[0m\u001b[1;33m\u001b[0m\u001b[1;33m\u001b[0m\u001b[0m\n",
      "\u001b[1;32mc:\\Users\\mkunn\\skole\\master\\venv\\masterMLvenv\\lib\\site-packages\\tensorflow\\python\\eager\\function.py\u001b[0m in \u001b[0;36mcall\u001b[1;34m(self, ctx, args, cancellation_manager)\u001b[0m\n\u001b[0;32m    558\u001b[0m               \u001b[0minputs\u001b[0m\u001b[1;33m=\u001b[0m\u001b[0margs\u001b[0m\u001b[1;33m,\u001b[0m\u001b[1;33m\u001b[0m\u001b[1;33m\u001b[0m\u001b[0m\n\u001b[0;32m    559\u001b[0m               \u001b[0mattrs\u001b[0m\u001b[1;33m=\u001b[0m\u001b[0mattrs\u001b[0m\u001b[1;33m,\u001b[0m\u001b[1;33m\u001b[0m\u001b[1;33m\u001b[0m\u001b[0m\n\u001b[1;32m--> 560\u001b[1;33m               ctx=ctx)\n\u001b[0m\u001b[0;32m    561\u001b[0m         \u001b[1;32melse\u001b[0m\u001b[1;33m:\u001b[0m\u001b[1;33m\u001b[0m\u001b[1;33m\u001b[0m\u001b[0m\n\u001b[0;32m    562\u001b[0m           outputs = execute.execute_with_cancellation(\n",
      "\u001b[1;32mc:\\Users\\mkunn\\skole\\master\\venv\\masterMLvenv\\lib\\site-packages\\tensorflow\\python\\eager\\execute.py\u001b[0m in \u001b[0;36mquick_execute\u001b[1;34m(op_name, num_outputs, inputs, attrs, ctx, name)\u001b[0m\n\u001b[0;32m     58\u001b[0m     \u001b[0mctx\u001b[0m\u001b[1;33m.\u001b[0m\u001b[0mensure_initialized\u001b[0m\u001b[1;33m(\u001b[0m\u001b[1;33m)\u001b[0m\u001b[1;33m\u001b[0m\u001b[1;33m\u001b[0m\u001b[0m\n\u001b[0;32m     59\u001b[0m     tensors = pywrap_tfe.TFE_Py_Execute(ctx._handle, device_name, op_name,\n\u001b[1;32m---> 60\u001b[1;33m                                         inputs, attrs, num_outputs)\n\u001b[0m\u001b[0;32m     61\u001b[0m   \u001b[1;32mexcept\u001b[0m \u001b[0mcore\u001b[0m\u001b[1;33m.\u001b[0m\u001b[0m_NotOkStatusException\u001b[0m \u001b[1;32mas\u001b[0m \u001b[0me\u001b[0m\u001b[1;33m:\u001b[0m\u001b[1;33m\u001b[0m\u001b[1;33m\u001b[0m\u001b[0m\n\u001b[0;32m     62\u001b[0m     \u001b[1;32mif\u001b[0m \u001b[0mname\u001b[0m \u001b[1;32mis\u001b[0m \u001b[1;32mnot\u001b[0m \u001b[1;32mNone\u001b[0m\u001b[1;33m:\u001b[0m\u001b[1;33m\u001b[0m\u001b[1;33m\u001b[0m\u001b[0m\n",
      "\u001b[1;31mKeyboardInterrupt\u001b[0m: "
     ]
    }
   ],
   "source": [
    "import tensorflow as tf\n",
    "from tensorflow.keras import layers\n",
    "import os, datetime\n",
    "\n",
    "model_path = \"model/mesh-quality-8gon-small-1\"\n",
    "BATCH_SIZE = 10\n",
    "EPOCHS = 1000\n",
    "INITIAL_LEARNING_RATE = 1e-1\n",
    "\n",
    "def model_setup():\n",
    "    model = tf.keras.Sequential([\n",
    "        tf.keras.Input(shape=(22,)),\n",
    "        layers.BatchNormalization(),\n",
    "\n",
    "        layers.Dense(16, activation='relu'),\n",
    "        layers.BatchNormalization(),\n",
    "        layers.Dropout(0.5),\n",
    "\n",
    "        layers.Dense(1),\n",
    "    ])\n",
    "    return model\n",
    "\n",
    "def train_model(model, train_features, train_label, model_epochs=EPOCHS, model_batch_size=BATCH_SIZE, learning_rate=INITIAL_LEARNING_RATE):\n",
    "    # Callbacks\n",
    "    # logdir = os.path.join(\"logs\", datetime.datetime.now().strftime(\"%Y%m%d-%H%M%S\"))\n",
    "    # tensorboard = tf.keras.callbacks.TensorBoard(logdir, histogram_freq=1)\n",
    "    checkpoint = tf.keras.callbacks.ModelCheckpoint(model_path, monitor='val_loss', verbose=0, save_best_only=True, mode='min')\n",
    "    early_stopping = tf.keras.callbacks.EarlyStopping(monitor='val_loss', mode='min', patience=EPOCHS//10, min_delta=0.0001)\n",
    "\n",
    "    # Learning rate scheduler\n",
    "    decay_steps= 10_000\n",
    "    lr_schedule = tf.keras.optimizers.schedules.PolynomialDecay(\n",
    "        learning_rate, \n",
    "        decay_steps, \n",
    "        1e-2\n",
    "        )\n",
    "\n",
    "    # Initialize model\n",
    "    model.compile(loss=tf.losses.MeanSquaredError(),\n",
    "                optimizer=tf.optimizers.Adam(\n",
    "                learning_rate=3e-4\n",
    "            ),\n",
    "            )\n",
    "\n",
    "    # Train model and write progress to history (for graphing)\n",
    "    history = model.fit(train_features,\n",
    "                        train_labels,\n",
    "                        epochs=model_epochs,\n",
    "                        batch_size=model_batch_size,\n",
    "                        validation_split=0.18,\n",
    "                        verbose=2,\n",
    "                        callbacks=[checkpoint, early_stopping],\n",
    "                        )\n",
    "    return history\n",
    "\n",
    "model = model_setup()\n",
    "model.summary()\n",
    "history = train_model(model, train_features, train_labels)\n",
    "\n",
    "# ======================\n",
    "#       EVALUATION\n",
    "# ======================\n",
    "train_acc = model.evaluate(\n",
    "    train_features, train_labels, verbose=0)\n",
    "test_acc = model.evaluate(\n",
    "    test_features, test_labels, verbose=0)\n",
    "print('Training data loss: %.3f, Test data loss: %.3f' %\n",
    "        (train_acc, test_acc))   "
   ]
  },
  {
   "cell_type": "code",
   "execution_count": 58,
   "metadata": {},
   "outputs": [
    {
     "output_type": "execute_result",
     "data": {
      "text/plain": [
       "(array([[0.64306265]], dtype=float32), array([[0.64306265]], dtype=float32))"
      ]
     },
     "metadata": {},
     "execution_count": 58
    }
   ],
   "source": [
    "max_test = [0.91484244,  0.00551026,  0.77336363,  0.79442204,\n",
    "        0.06119724,  0.99685841, -0.48074287,  0.39218434, -0.9447753 ,\n",
    "        0.17089053, -0.75703453, -0.93550632,  0.08711492, -0.97169181,\n",
    "        0.73734201, -0.82820086, -0.25672259, -0.23196948,  0.22315476,\n",
    "        0.27751235,  0.34114631, -0.34976791]\n",
    "min_test = [1.4360157 , -0.28543287,  0.89610679,  0.17926611,\n",
    "        0.00860781,  1.36589249, -0.40462255,  0.49788496, -0.97526413,\n",
    "       -0.33061286, -0.70153368, -0.37833038,  0.43591692, -0.52997161,\n",
    "        0.71686403, -0.25175814, -0.41137586, -0.18525747,  0.16669735,\n",
    "        0.68101452,  0.66109099,  0.03499002]\n",
    "test_label = 0.832\n",
    "\n",
    "\n",
    "\n",
    "\n",
    "test_df = pd.read_csv('data/quality-test-big-dataset.csv')\n",
    "good_data = pd.isnull(test_df['dum1'])\n",
    "\n",
    "dataset = test_df[good_data].dropna(axis=1, how='all')\n",
    "\n",
    "\n",
    "pred_model = tf.keras.models.load_model(\"model/mesh-quality-8gon-small-1\")\n",
    "features = np.expand_dims(max_test, axis=0)\n",
    "features_min = np.expand_dims(min_test, axis=0)\n",
    "\n",
    "min_pred = pred_model(features).numpy()\n",
    "max_pred = pred_model(features_min).numpy()\n",
    "# dataset['avgQuality'].idxmin()\n",
    "# dataset.loc[5079].values\n",
    "# dataset.head(100)\n",
    "min_pred, max_pred"
   ]
  },
  {
   "source": [
    "max_qual = 0.845 \n",
    "min_qual = 0.401\n",
    "\n",
    "0.6430032\n",
    "0.6430032\n",
    "0.6429662"
   ],
   "cell_type": "markdown",
   "metadata": {}
  }
 ]
}